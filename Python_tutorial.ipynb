{
 "cells": [
  {
   "cell_type": "markdown",
   "metadata": {
    "colab_type": "text",
    "id": "wpQ7CkYFNjw8"
   },
   "source": [
    "# SHUBHAM SHARMA\n",
    "## IIT BOMBAY\n",
    "This is a very introductory tutorial for python. The following topics will be covered in this tutorial:\n",
    "\n",
    "1) Loops \n",
    "\n",
    "2) Functions \n",
    "\n",
    "3) Matplotlib"
   ]
  },
  {
   "cell_type": "markdown",
   "metadata": {
    "colab_type": "text",
    "id": "UThdJrRmRTqB"
   },
   "source": [
    "## Loops\n",
    "Now that we have seen how variable works in python, what if we have statement that we have to execute multiple times. A loop statement allows us to execute a group of statements multiple times. \\\\\n",
    "Python has two types of loops: **While** loop and **For** loop."
   ]
  },
  {
   "cell_type": "markdown",
   "metadata": {
    "colab_type": "text",
    "id": "YPYcEW2-S12A"
   },
   "source": [
    "## While loop\n",
    "While-loop repeatedly executes the target set of statements as long as the given condition is true. When the condition becomes false, we exit the while-loop **![](https://lh5.googleusercontent.com/Qi-XJmbUOH8aQ5JpsNjg7ULl4srmmjOSGU_11dkkPHBVOmrYNxcc9X6xDEzFyrda5kGHxJBJJgcuJkLr5SUdXMDXUuponFCUrcbxZqt1jX0XYeorW4Yk_d0fU4ppiSaYsIu3KXIF)**"
   ]
  },
  {
   "cell_type": "code",
   "execution_count": 0,
   "metadata": {
    "colab": {
     "base_uri": "https://localhost:8080/",
     "height": 200
    },
    "colab_type": "code",
    "id": "WKgRW_cMNi7-",
    "outputId": "e51b0d09-a777-4e1e-ed5d-a66ce4402505"
   },
   "outputs": [
    {
     "name": "stdout",
     "output_type": "stream",
     "text": [
      "countdown:  10\n",
      "countdown:  9\n",
      "countdown:  8\n",
      "countdown:  7\n",
      "countdown:  6\n",
      "countdown:  5\n",
      "countdown:  4\n",
      "countdown:  3\n",
      "countdown:  2\n",
      "countdown:  1\n",
      "It is done. Now outside the loop\n"
     ]
    }
   ],
   "source": [
    "n=10\n",
    "while n>0:\n",
    "  print('countdown: ',n)\n",
    "  n=n-1\n",
    "print('It is done. Now outside the loop')"
   ]
  },
  {
   "cell_type": "markdown",
   "metadata": {
    "colab_type": "text",
    "id": "vXn9ZRT4XRDz"
   },
   "source": [
    "**Example1)** Find the factorial of n for n=5(or for any n-use input command)\n",
    "\n",
    "**Example2)** Find all the devisors of 100(or any natural number-use input for this) \n",
    "\n",
    "**Example3)** Add all the natural numbers from 1-100(or for any n-use input command) \n",
    "\n",
    "**Example4)** Find weather the number is prime or not "
   ]
  },
  {
   "cell_type": "code",
   "execution_count": 0,
   "metadata": {
    "colab": {
     "base_uri": "https://localhost:8080/",
     "height": 50
    },
    "colab_type": "code",
    "id": "xkQiHF9jZkvQ",
    "outputId": "e2e419e5-141e-4c3b-fc50-f66d03087562"
   },
   "outputs": [
    {
     "name": "stdout",
     "output_type": "stream",
     "text": [
      "Enter the number whose factorial you want : 5\n",
      "The factorial of 5 is 120\n"
     ]
    }
   ],
   "source": [
    "#Example1\n",
    "n=int(input('Enter the number whose factorial you want : '))\n",
    "i=1\n",
    "fact=1\n",
    "while i<=n:\n",
    "  fact=fact*i\n",
    "  i+=1\n",
    "print('The factorial of',n,'is',fact)"
   ]
  },
  {
   "cell_type": "code",
   "execution_count": 0,
   "metadata": {
    "colab": {
     "base_uri": "https://localhost:8080/",
     "height": 50
    },
    "colab_type": "code",
    "id": "4LCgSdooZkx4",
    "outputId": "d6a3d841-f131-4710-c7dd-1b242a3930f5"
   },
   "outputs": [
    {
     "name": "stdout",
     "output_type": "stream",
     "text": [
      "Enter the number whose devisors you want : 100\n",
      "The devisors of 100 are [1, 2, 4, 5, 10, 20, 25, 50, 100]\n"
     ]
    }
   ],
   "source": [
    "#Example2\n",
    "n=int(input('Enter the number whose devisors you want : '))\n",
    "i=1\n",
    "devisors=[]\n",
    "while i<=n:\n",
    "  if n%i==0:\n",
    "    devisors.append(i)\n",
    "  i+=1\n",
    "print('The devisors of',n,'are',devisors)"
   ]
  },
  {
   "cell_type": "code",
   "execution_count": 0,
   "metadata": {
    "colab": {
     "base_uri": "https://localhost:8080/",
     "height": 33
    },
    "colab_type": "code",
    "id": "oejgsUAAZk0S",
    "outputId": "6133468b-f04d-4951-86d6-5e9ca0936d63"
   },
   "outputs": [
    {
     "data": {
      "text/plain": [
       "1"
      ]
     },
     "execution_count": 10,
     "metadata": {
      "tags": []
     },
     "output_type": "execute_result"
    }
   ],
   "source": [
    "#Example3\n",
    "n=int(input('Enter the number: '))\n",
    "#Try yourself, in case you want the solution, open solution from the github"
   ]
  },
  {
   "cell_type": "code",
   "execution_count": 0,
   "metadata": {
    "colab": {},
    "colab_type": "code",
    "id": "tAGy8gPIZk25"
   },
   "outputs": [],
   "source": [
    "#Example4\n",
    "n=int(input('Enter the number: '))\n",
    "#Try yourself, in case you want the solution, open solution from the github"
   ]
  },
  {
   "cell_type": "markdown",
   "metadata": {
    "colab_type": "text",
    "id": "FW41wLofc3VE"
   },
   "source": [
    "## For loop\n",
    "For loop repeatedly executes the target set of statements for a finite and fixed\n",
    "number of iterations. Python For loop can iterate over any sequence\n",
    "**![](https://lh3.googleusercontent.com/vbgGiAmQKeQaZAgbM61EHhYxxfN43aUiTdw1uC6QyzJUIX_lmU-v8HPM4vhzWJTgILgkZfyzrDnUPUdKemO7orWAto--uT_9rVqa_DRLCaR4dt9oUPmZ4gmPo2zLXrs364vL0nHl)**"
   ]
  },
  {
   "cell_type": "code",
   "execution_count": 0,
   "metadata": {
    "colab": {
     "base_uri": "https://localhost:8080/",
     "height": 200
    },
    "colab_type": "code",
    "id": "VjgZWXhndm7R",
    "outputId": "09334425-28de-4a14-da92-b4c9c7ea7c92"
   },
   "outputs": [
    {
     "name": "stdout",
     "output_type": "stream",
     "text": [
      "countdown:  0\n",
      "countdown:  1\n",
      "countdown:  2\n",
      "countdown:  3\n",
      "countdown:  4\n",
      "countdown:  5\n",
      "countdown:  6\n",
      "countdown:  7\n",
      "countdown:  8\n",
      "countdown:  9\n",
      "It is done. Now outside the loop\n"
     ]
    }
   ],
   "source": [
    "n=10\n",
    "for i in range(10):\n",
    "  print('countdown: ',i)\n",
    "print('It is done. Now outside the loop')"
   ]
  },
  {
   "cell_type": "markdown",
   "metadata": {
    "colab_type": "text",
    "id": "DaqATBDMj4j6"
   },
   "source": [
    "**Example1)** Find the factorial of n for n=5(or for any n-use input command) \n",
    "\n",
    "**Example2)** Find all the devisors of 100(or any natural number-use input for this) \n",
    "\n",
    "**Example3)** Add all the natural numbers from 1-100(or for any n-use input command) \n",
    "\n",
    "**Example4)** Find weather the number is prime or not "
   ]
  },
  {
   "cell_type": "code",
   "execution_count": 0,
   "metadata": {
    "colab": {
     "base_uri": "https://localhost:8080/",
     "height": 50
    },
    "colab_type": "code",
    "id": "l_Udzs1cdm9p",
    "outputId": "25fb00cb-58bd-412f-d78c-74f6cc75da1e"
   },
   "outputs": [
    {
     "name": "stdout",
     "output_type": "stream",
     "text": [
      "Enter the number whose factorial you want : 6\n",
      "The factorial of 6 is 720\n"
     ]
    }
   ],
   "source": [
    "#Example1\n",
    "n=int(input('Enter the number whose factorial you want : '))\n",
    "fact=1\n",
    "for i in range(1,n+1):\n",
    "  fact*=i\n",
    "print('The factorial of',n,'is',fact)"
   ]
  },
  {
   "cell_type": "code",
   "execution_count": 0,
   "metadata": {
    "colab": {
     "base_uri": "https://localhost:8080/",
     "height": 50
    },
    "colab_type": "code",
    "id": "E7N3Y2B2kY8o",
    "outputId": "b2590ce6-1fe6-47c6-e209-9ca15c4d93da"
   },
   "outputs": [
    {
     "name": "stdout",
     "output_type": "stream",
     "text": [
      "Enter the number whose devisors you want : 100\n",
      "The devisors of 100 are [1, 2, 4, 5, 10, 20, 25, 50, 100]\n"
     ]
    }
   ],
   "source": [
    "#Example2\n",
    "n=int(input('Enter the number whose devisors you want : '))\n",
    "devisors=[]\n",
    "for i in range(1,n+1):\n",
    "  if n%i==0:\n",
    "    devisors.append(i)\n",
    "print('The devisors of',n,'are',devisors)"
   ]
  },
  {
   "cell_type": "code",
   "execution_count": 0,
   "metadata": {
    "colab": {},
    "colab_type": "code",
    "id": "zZ_BsUnzkZBf"
   },
   "outputs": [],
   "source": [
    "#Example3\n",
    "n=int(input('Enter the number: '))\n",
    "#Try yourself, in case you want the solution, open solution from the github"
   ]
  },
  {
   "cell_type": "code",
   "execution_count": 0,
   "metadata": {
    "colab": {},
    "colab_type": "code",
    "id": "bJ7Q0GGwkZF-"
   },
   "outputs": [],
   "source": [
    "#Example4\n",
    "n=int(input('Enter the number: '))\n",
    "#Try yourself, in case you want the solution, open solution from the github"
   ]
  },
  {
   "cell_type": "markdown",
   "metadata": {
    "colab_type": "text",
    "id": "SS8twe2lOlZZ"
   },
   "source": [
    "## Functions\n",
    "Python gives you many built-in functions like print(), etc. but you can also create your own functions. These functions are called **user-defined functions**. \n",
    "\n",
    "Let us start by defining some of very simple functions:\n",
    "\n",
    "a) $f(x) = x^3 +3x +1$ \n",
    "\n",
    "b) Write a function which takes as input a number and tell if it is prime or not \n",
    "\n",
    "c) Write a function to find all the devisors of a number \n",
    "\n",
    "d) Write a function to find all the prime factors of a number (distict factors that are prime) \n",
    "\n",
    "e) Write a function which takes as input as a string and check if it a palindrome(*palindrome:*a word, phrase, or sequence that reads the same backwards as forwards, e.g. *madam *or *nun*.) \n",
    "\n",
    "f) Write a function to find the smallest number in an array.  \n",
    "\n",
    "\n",
    "\n"
   ]
  },
  {
   "cell_type": "code",
   "execution_count": 0,
   "metadata": {
    "colab": {
     "base_uri": "https://localhost:8080/",
     "height": 50
    },
    "colab_type": "code",
    "id": "dxNlaawMogHE",
    "outputId": "9d6926d2-f22a-4030-a750-d47716c676b1"
   },
   "outputs": [
    {
     "name": "stdout",
     "output_type": "stream",
     "text": [
      "Enter a number2\n",
      "15.0\n"
     ]
    }
   ],
   "source": [
    "#Example a)\n",
    "def f(x):\n",
    "  return (x**3) + (3*x) + 1\n",
    "\n",
    "\n",
    "x = float(input('Enter a value for x'))\n",
    "print(f(x))\n"
   ]
  },
  {
   "cell_type": "code",
   "execution_count": 0,
   "metadata": {
    "colab": {
     "base_uri": "https://localhost:8080/",
     "height": 33
    },
    "colab_type": "code",
    "id": "2okmCHHdo2no",
    "outputId": "d3b035f5-77cc-4be9-f7ab-720e0a479c22"
   },
   "outputs": [
    {
     "name": "stdout",
     "output_type": "stream",
     "text": [
      "True\n"
     ]
    }
   ],
   "source": [
    "#Example b)\n",
    "def tell_prime(x):\n",
    "  counter=0\n",
    "  for i in range(1,x):\n",
    "    if x%i==0:\n",
    "      counter+=1\n",
    "  if counter==1:\n",
    "    return True \n",
    "  else: \n",
    "    return False\n",
    "print(tell_prime(391939))"
   ]
  },
  {
   "cell_type": "code",
   "execution_count": 0,
   "metadata": {
    "colab": {},
    "colab_type": "code",
    "id": "8sjqYuXAp8jO"
   },
   "outputs": [],
   "source": [
    "#Example c)\n",
    "#Try yourself, in case you want the solution, open solution from the github"
   ]
  },
  {
   "cell_type": "code",
   "execution_count": 0,
   "metadata": {
    "colab": {},
    "colab_type": "code",
    "id": "vnqEnQPGr7ju"
   },
   "outputs": [],
   "source": [
    "#Example d)\n",
    "#Try yourself, in case you want the solution, open solution from the github"
   ]
  },
  {
   "cell_type": "code",
   "execution_count": 0,
   "metadata": {
    "colab": {},
    "colab_type": "code",
    "id": "2bHz5Sl5r-He"
   },
   "outputs": [],
   "source": [
    "#Example e)\n",
    "#Try yourself, in case you want the solution, open solution from the github"
   ]
  },
  {
   "cell_type": "code",
   "execution_count": 0,
   "metadata": {
    "colab": {},
    "colab_type": "code",
    "id": "mZ6HvKL_tGZz"
   },
   "outputs": [],
   "source": [
    "#Example f)\n",
    "#Try yourself, in case you want the solution, open solution from the github"
   ]
  },
  {
   "cell_type": "markdown",
   "metadata": {
    "colab_type": "text",
    "id": "h_p9w6c2tQTR"
   },
   "source": [
    "## Matplotlib\n",
    "Matplotlib is a python 2d plotting library. We won't go much into these. Let's see soe of the basic plots:\n"
   ]
  },
  {
   "cell_type": "markdown",
   "metadata": {
    "colab_type": "text",
    "id": "4VjTFm1Yt-1X"
   },
   "source": [
    "### Let's plot $x$ vs $x^2$ for $x$ from 2 - *10*\n"
   ]
  },
  {
   "cell_type": "code",
   "execution_count": 0,
   "metadata": {
    "colab": {
     "base_uri": "https://localhost:8080/",
     "height": 33
    },
    "colab_type": "code",
    "id": "B2Wt0YxTtKEu",
    "outputId": "b7d8d272-f2ae-4161-f2cd-96f1810868ac"
   },
   "outputs": [
    {
     "name": "stdout",
     "output_type": "stream",
     "text": [
      "[4, 9, 16, 25, 36, 49, 64, 81, 100]\n"
     ]
    }
   ],
   "source": [
    "x =[2,3,4,5,6,7,8,9,10]\n",
    "\n",
    "#A function to sqaure elements in array\n",
    "def give_sq(x):\n",
    "  '''\n",
    "  x is an array\n",
    "  '''\n",
    "  y=[]\n",
    "  for i in x:\n",
    "    y.append(i**2)\n",
    "  return y\n",
    "\n",
    "y=give_sq(x)\n",
    "print(y)"
   ]
  },
  {
   "cell_type": "code",
   "execution_count": 0,
   "metadata": {
    "colab": {},
    "colab_type": "code",
    "id": "_QY3ZRxYxO91"
   },
   "outputs": [],
   "source": [
    "import matplotlib.pyplot as plt\n",
    "%matplotlib inline\n",
    "#you can always type in   help('matplotlib.pyplot.plot') in colsole or google if have doubt"
   ]
  },
  {
   "cell_type": "code",
   "execution_count": 0,
   "metadata": {
    "colab": {
     "base_uri": "https://localhost:8080/",
     "height": 315
    },
    "colab_type": "code",
    "id": "qIqM0vDYxwU-",
    "outputId": "60ff334b-f408-4051-aaf2-06e27e986e42"
   },
   "outputs": [
    {
     "data": {
      "text/plain": [
       "Text(0, 0.5, '$x^2$')"
      ]
     },
     "execution_count": 57,
     "metadata": {
      "tags": []
     },
     "output_type": "execute_result"
    },
    {
     "data": {
      "image/png": "[encoded data removed]",
      "text/plain": [
       "<Figure size 432x288 with 1 Axes>"
      ]
     },
     "metadata": {
      "tags": []
     },
     "output_type": "display_data"
    }
   ],
   "source": [
    "plt.plot(x,y,'.')\n",
    "# plt.plot(x,y,'r*-')\n",
    "plt.title('My First Graph', fontsize=12)\n",
    "plt.xlabel(r'$x$', fontsize=14)\n",
    "plt.ylabel(r'$x^2$', fontsize=14)\n",
    "plt.show()\n"
   ]
  },
  {
   "cell_type": "markdown",
   "metadata": {
    "colab_type": "text",
    "id": "XiL7SXtTzK3A"
   },
   "source": [
    "### Let's plot $x$ vs $x^3$ for $x$ from 0 - *100*"
   ]
  },
  {
   "cell_type": "code",
   "execution_count": 0,
   "metadata": {
    "colab": {},
    "colab_type": "code",
    "id": "-5iaFza-x10u"
   },
   "outputs": [],
   "source": [
    "#Try yourself, in case you want the solution, open solution from the github"
   ]
  },
  {
   "cell_type": "markdown",
   "metadata": {
    "colab_type": "text",
    "id": "1YWd9Hpt0Wug"
   },
   "source": [
    "### Write a code to plot $y = sin(x),~ x \\in [0,2\\pi]$"
   ]
  },
  {
   "cell_type": "code",
   "execution_count": 0,
   "metadata": {
    "colab": {
     "base_uri": "https://localhost:8080/",
     "height": 301
    },
    "colab_type": "code",
    "id": "9LO-e7ZHzXDT",
    "outputId": "0acc365b-942f-4b7b-c7f4-0dd08ab9ae05"
   },
   "outputs": [
    {
     "data": {
      "image/png": "[encoded data removed]",
      "text/plain": [
       "<Figure size 432x288 with 1 Axes>"
      ]
     },
     "metadata": {
      "tags": []
     },
     "output_type": "display_data"
    }
   ],
   "source": [
    "#  np.linspace(0,20,5) → Creates array (list) of 5 evenly spaced numbers between 0 and 20, that includes 0 and 20.\n",
    "import numpy as np\n",
    "x = np.linspace(0,2*np.pi,1000)\n",
    "y= [np.sin(i) for i in x]\n",
    "plt.plot(x,y)\n",
    "plt.title(r'$y = sin(x)$', fontsize=12)\n",
    "plt.xlabel(r'$x$', fontsize=14)\n",
    "plt.ylabel(r'$sin(x)$', fontsize=14)\n",
    "plt.show()"
   ]
  },
  {
   "cell_type": "markdown",
   "metadata": {
    "colab_type": "text",
    "id": "eUZlc8oy1-pG"
   },
   "source": [
    "## These are some tricky questions in case you are getting bored in the tutorial\n",
    "---\n",
    "$Q1.$ Given an array $A$ of positive integers, we would like to find the standard deviation of its elements. Recall that standard deviation is given by:\n",
    "$\\sqrt{\\frac{\\sum_{i=1}^{n}(A[i]- \\mu)^{2}}{n-1}}$, where , $\\mu = \\sum_{i=1}^{n}\\frac{A[i]}{n}$ \n",
    "\n",
    "and n is size of $A$. Write a function that has only **one** 'for' loop to compute it.\n",
    "\n",
    "---\n",
    "$Q2. $Write a program **swap3(x,y,z)** that takes three integer numbers as input and interchanges their values without using any other variable. The new x should have the value of old y, the new y should get old z and the new z be old x.\n",
    "\n",
    "---\n",
    "$Q3. $Write an algorithm **visit2d()** that visits every integer point (x, y) in a 2-dimensional\n",
    "plane with the property that every integer should be visited in a finite number of steps.\n",
    "\n",
    "---\n",
    "$Q4. $ The function $sin(x)$ can be evaluated as:\n",
    "\n",
    "$sin(x) = \\frac{x}{1!}-\\frac{x^3}{3!}+\\frac{x^5}{5!}-\\frac{x^7}{7!}+ ...$ \n",
    "\n",
    " Write an function **sin(x,k)** that takes as input a rational number x and an integer\n",
    "k and evaluate $sin(x)$ from the first k terms of the above formula. It may use multiple while\n",
    "loops, addition, multiplication, comparisons etc. Your algorithm should not use any other\n",
    "type of loops, nor should it use the power function (ˆ) or factorial (!)\n",
    "\n",
    "---"
   ]
  },
  {
   "cell_type": "code",
   "execution_count": 0,
   "metadata": {
    "colab": {},
    "colab_type": "code",
    "id": "CMg041IM5RgR"
   },
   "outputs": [],
   "source": []
  }
 ],
 "metadata": {
  "accelerator": "GPU",
  "colab": {
   "collapsed_sections": [],
   "name": "Python_tutorial.ipynb",
   "provenance": [],
   "version": "0.3.2"
  },
  "kernelspec": {
   "display_name": "Python 3",
   "language": "python",
   "name": "python3"
  },
  "language_info": {
   "codemirror_mode": {
    "name": "ipython",
    "version": 3
   },
   "file_extension": ".py",
   "mimetype": "text/x-python",
   "name": "python",
   "nbconvert_exporter": "python",
   "pygments_lexer": "ipython3",
   "version": "3.7.3"
  }
 },
 "nbformat": 4,
 "nbformat_minor": 1
}
